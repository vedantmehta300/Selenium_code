{
 "cells": [
  {
   "cell_type": "code",
   "execution_count": 10,
   "metadata": {},
   "outputs": [
    {
     "name": "stdout",
     "output_type": "stream",
     "text": [
      "Gmail\n",
      "https://accounts.google.com/signin/v2/identifier?service=mail&passive=true&rm=false&continue=https%3A%2F%2Fmail.google.com%2Fmail%2F&ss=1&scc=1&ltmpl=default&ltmplcache=2&emr=1&osid=1&flowName=GlifWebSignIn&flowEntry=ServiceLogin\n"
     ]
    }
   ],
   "source": [
    "from selenium import webdriver\n",
    "import time\n",
    "import keyboard\n",
    "#from selenium.webdriver.commom.keys import _Keys\n",
    "\n",
    "driver = webdriver.Chrome(executable_path=\"C:\\Seleniumchrome\\chromedriver.exe\")\n",
    "driver.get(\"https://www.google.com/gmail/\")\n",
    "print(driver.title) # this will return the tital of the page\n",
    "print(driver.current_url) # this will return the url of the page\n",
    "#time.sleep(10)\n",
    "#print(driver.page_source) #Returns the HTML code\n",
    "keyboard.wait('esc')\n",
    "time.sleep(2)\n",
    "driver.close()\n",
    "\n",
    "\n",
    "# driver.back() # go to previous page\n",
    "# ele = driver.find_element_by_name('UserName') # inspact by name\n",
    "\n",
    "# print(ele.is_displayed())\n",
    "#print(ele.is_enabled())\n",
    "\n",
    "# ele.send_keys(\"vedantmehta300@gmail.com\")\n",
    "\n",
    "#driver.find_elements_by_class_name()"
   ]
  },
  {
   "cell_type": "code",
   "execution_count": 17,
   "metadata": {},
   "outputs": [
    {
     "name": "stdout",
     "output_type": "stream",
     "text": [
      "Value Research | Complete Guide to Mutual Funds, Investing in Stocks, Financial Planning\n",
      "https://www.valueresearchonline.com/\n"
     ]
    }
   ],
   "source": [
    "from selenium import webdriver\n",
    "import time\n",
    "import keyboard\n",
    "#from selenium.webdriver.commom.keys import _Keys\n",
    "\n",
    "driver = webdriver.Chrome(executable_path=\"C:\\Seleniumchrome\\chromedriver.exe\")\n",
    "driver.get(\"https://www.valueresearchonline.com/\")\n",
    "print(driver.title) # this will return the tital of the page\n",
    "print(driver.current_url) # this will return the url of the page\n",
    "#time.sleep(10)\n",
    "#print(driver.page_source) #Returns the HTML code\n",
    "#driver.find_element_by_xpath('')  # using xpath in inspect\n",
    "\n",
    "driver.find_element_by_xpath(\"//*[@id='profile-menu']/div\").click()\n",
    "time.sleep(1)\n",
    "driver.find_element_by_xpath(\"//*[@id='header']/nav/div/div/div/div[2]/div/ul/li[2]/a\").click()\n",
    "time.sleep(1)\n",
    "\n",
    "User=driver.find_element_by_xpath(\"//*[@id='login_username']\")\n",
    "time.sleep(1)\n",
    "User.send_keys(\"YOUR_EMAIL_ID\")\n",
    "time.sleep(1)\n",
    "\n",
    "Pass=driver.find_element_by_xpath(\"//*[@id='login_password']\")\n",
    "time.sleep(1)\n",
    "Pass.send_keys(\"YOUR_PASSWORD\")\n",
    "time.sleep(1)\n",
    "driver.find_element_by_xpath(\"//*[@id='form-login']/div/button\").click()\n",
    "#keyboard.wait('esc')\n",
    "time.sleep(10)\n",
    "driver.close()"
   ]
  }
 ],
 "metadata": {
  "kernelspec": {
   "display_name": "Python 3",
   "language": "python",
   "name": "python3"
  },
  "language_info": {
   "codemirror_mode": {
    "name": "ipython",
    "version": 3
   },
   "file_extension": ".py",
   "mimetype": "text/x-python",
   "name": "python",
   "nbconvert_exporter": "python",
   "pygments_lexer": "ipython3",
   "version": "3.7.6"
  }
 },
 "nbformat": 4,
 "nbformat_minor": 4
}
